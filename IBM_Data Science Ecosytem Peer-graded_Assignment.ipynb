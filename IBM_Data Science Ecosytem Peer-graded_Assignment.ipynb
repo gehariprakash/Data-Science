{
 "cells": [
  {
   "cell_type": "markdown",
   "id": "528244d5",
   "metadata": {},
   "source": [
    "### Exercise 1:  Create a Jupyter Notebook"
   ]
  },
  {
   "cell_type": "markdown",
   "id": "80257f7f",
   "metadata": {},
   "source": [
    "### Name: Peer-graded_Assignment_Submitting_My_Work"
   ]
  },
  {
   "cell_type": "markdown",
   "id": "4d802779",
   "metadata": {},
   "source": [
    "### Exercise 2 - Create a markdown cell with the title of the notebook."
   ]
  },
  {
   "cell_type": "markdown",
   "id": "a9c3177e",
   "metadata": {},
   "source": [
    "### Data Science Tools and Ecosystem\n"
   ]
  },
  {
   "cell_type": "markdown",
   "id": "d0af4695",
   "metadata": {},
   "source": [
    "### Exercise 3 - Create a markdown cell for an introduction.\n",
    "\n",
    "\n",
    "Objectives:\n",
    "\n",
    "- List popular languages that Data Scientists use.\n",
    "- List commonly used libraries used by Data Scientists.\n",
    "- Comment on Data Science tools."
   ]
  },
  {
   "cell_type": "markdown",
   "id": "b8191367",
   "metadata": {},
   "source": [
    "### Exercise 4 - Create a markdown cell to list data science languages.\n",
    "\n",
    "Some of the popular languages that Data Scientists use are:\n",
    "\n",
    "- Python.\n",
    "- R.\n",
    "- SQL.\n",
    "- Java.\n",
    "- Julia.\n",
    "- Scala.\n",
    "- C/C++.\n",
    "- JavaScript."
   ]
  },
  {
   "cell_type": "markdown",
   "id": "c632e6fb",
   "metadata": {},
   "source": [
    "### Exercise 5 - Create a markdown cell to list data science libraries.\n",
    "\n",
    "Some of the commonly used libraries used by Data Scientists include:\n",
    "\n",
    "- TensorFlow.\n",
    "- NumPy.\n",
    "- SciPy.\n",
    "- Pandas.\n",
    "- Matplotlib.\n",
    "- Keras.\n",
    "- SciKit-Learn.\n",
    "- PyTorch.\n",
    "- Scrapy.\n",
    "- BeautifulSoup.\n",
    "- LightGBM.\n",
    "- ELI5.\n",
    "- Theano.\n",
    "- NuPIC.\n",
    "- Ramp.\n",
    "- Pipenv.\n",
    "- Bob.\n",
    "- PyBrain.\n",
    "- Caffe2.\n",
    "- Chainer."
   ]
  },
  {
   "cell_type": "markdown",
   "id": "529028fd",
   "metadata": {},
   "source": [
    "### Exercise 6 - Create a markdown cell with a table of Data Science tools.\n",
    "\n",
    "Data Science Tools:\n",
    "\n",
    "- Anaconda\n",
    "- Jupyter Notebooks\n",
    "- R Studio\n",
    "- Spyder\n",
    "- Zeppelin\n"
   ]
  },
  {
   "cell_type": "markdown",
   "id": "08feb488",
   "metadata": {},
   "source": [
    "### Exercise 7 - Create a markdown cell introducing arithmetic expression examples.\n",
    "\n",
    "Below are a few examples of evaluating arithmetic expressions in Python\n"
   ]
  },
  {
   "cell_type": "code",
   "execution_count": 1,
   "id": "4d1c307a",
   "metadata": {},
   "outputs": [
    {
     "data": {
      "text/plain": [
       "9"
      ]
     },
     "execution_count": 1,
     "metadata": {},
     "output_type": "execute_result"
    }
   ],
   "source": [
    "# Arithmetic operations\n",
    "code = compile(\"5 + 4\", \"<string>\", \"eval\")\n",
    "eval(code)"
   ]
  },
  {
   "cell_type": "code",
   "execution_count": 2,
   "id": "a07559b2",
   "metadata": {},
   "outputs": [
    {
     "data": {
      "text/plain": [
       "24"
      ]
     },
     "execution_count": 2,
     "metadata": {},
     "output_type": "execute_result"
    }
   ],
   "source": [
    "code1 = compile(\"(5 + 7) * 2\", \"<string>\", \"eval\")\n",
    "eval(code1)\n"
   ]
  },
  {
   "cell_type": "code",
   "execution_count": 3,
   "id": "c1c1554e",
   "metadata": {},
   "outputs": [
    {
     "data": {
      "text/plain": [
       "65449.84694978735"
      ]
     },
     "execution_count": 3,
     "metadata": {},
     "output_type": "execute_result"
    }
   ],
   "source": [
    "import math\n",
    "# Volume of a sphere\n",
    "code2 = compile(\"4 / 3 * math.pi * math.pow(25, 3)\", \"<string>\", \"eval\")\n",
    "eval(code2)\n"
   ]
  },
  {
   "cell_type": "markdown",
   "id": "d2085d9f",
   "metadata": {},
   "source": [
    "### Exercise 8 - Create a code cell to multiply and add numbers.\n",
    "\n",
    "This a simple arithmetic expression to mutiply then add integers"
   ]
  },
  {
   "cell_type": "code",
   "execution_count": 4,
   "id": "289a080b",
   "metadata": {},
   "outputs": [
    {
     "data": {
      "text/plain": [
       "17"
      ]
     },
     "execution_count": 4,
     "metadata": {},
     "output_type": "execute_result"
    }
   ],
   "source": [
    "(3*4)+5"
   ]
  },
  {
   "cell_type": "markdown",
   "id": "68665331",
   "metadata": {},
   "source": [
    "### Exercise 9 - Create a code cell to convert minutes to hours.\n",
    "\n",
    "This will convert 200 minutes to hours by diving by 60"
   ]
  },
  {
   "cell_type": "code",
   "execution_count": 5,
   "id": "4be63772",
   "metadata": {},
   "outputs": [
    {
     "data": {
      "text/plain": [
       "3"
      ]
     },
     "execution_count": 5,
     "metadata": {},
     "output_type": "execute_result"
    }
   ],
   "source": [
    "200//60"
   ]
  },
  {
   "cell_type": "markdown",
   "id": "7213d0cf",
   "metadata": {},
   "source": [
    "### Exercise 10 -Insert a markdown cell to list Objectives."
   ]
  },
  {
   "cell_type": "markdown",
   "id": "fd545aac",
   "metadata": {},
   "source": [
    "Below the introduction cell created in Exercise 3, insert a new markdown cell to list the objectives that this notebook covered (i.e. some of the key takeaways from the course). In this new cell start with an introductory line titled: Objectives: in bold font. Then using an unordered list (bullets) indicate 3 to 5 items covered in this notebook, such as List popular languages for Data Science."
   ]
  },
  {
   "cell_type": "markdown",
   "id": "a633135e",
   "metadata": {},
   "source": [
    "Objectives:\n",
    "\n",
    "- List popular languages that Data Scientists use.\n",
    "- List commonly used libraries used by Data Scientists.\n",
    "- Comment on Data Science tools."
   ]
  },
  {
   "cell_type": "markdown",
   "id": "a2209e8e",
   "metadata": {},
   "source": [
    "### Exercise 11 - Create a markdown cell to indicate the Author’s name.\n",
    "\n",
    "\n",
    "### Author :\n",
    "E Hari Prakash Goud"
   ]
  },
  {
   "cell_type": "code",
   "execution_count": null,
   "id": "a5a8fb16",
   "metadata": {},
   "outputs": [],
   "source": []
  }
 ],
 "metadata": {
  "kernelspec": {
   "display_name": "Python 3 (ipykernel)",
   "language": "python",
   "name": "python3"
  },
  "language_info": {
   "codemirror_mode": {
    "name": "ipython",
    "version": 3
   },
   "file_extension": ".py",
   "mimetype": "text/x-python",
   "name": "python",
   "nbconvert_exporter": "python",
   "pygments_lexer": "ipython3",
   "version": "3.10.9"
  }
 },
 "nbformat": 4,
 "nbformat_minor": 5
}
